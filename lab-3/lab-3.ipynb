{
 "cells": [
  {
   "cell_type": "markdown",
   "metadata": {},
   "source": [
    "# Lab 3: Build a Data Product\n",
    "\n",
    "*Goal: Build a new data product and add it to your organization's data catalog*\n",
    "\n",
    "This Lab will walk through the steps of:\n",
    "\n",
    "1. Developing a more advanced workflow that combines multiple datasets (elevation data from a DEM and rainfall data from ERA5).\n",
    "2. We will use these datasets to create a new, derived dataset—for example -- \"Landslide Susceptibility Index\" — and write it back into the Earthmover platform, making it a new, reusable asset."
   ]
  },
  {
   "cell_type": "code",
   "execution_count": null,
   "metadata": {},
   "outputs": [],
   "source": [
    "import xarray as xr\n",
    "import zarr\n",
    "from arraylake import Client\n",
    "from dask.diagnostics import ProgressBar\n",
    "\n",
    "# Bounding Box for New Zealand\n",
    "bbox = {\"longitude\": slice(165, 179), \"latitude\": slice(-33, -47)}\n",
    "\n",
    "client = Client()\n",
    "client.login()"
   ]
  },
  {
   "cell_type": "markdown",
   "metadata": {},
   "source": [
    "## Input datasets"
   ]
  },
  {
   "cell_type": "code",
   "execution_count": null,
   "metadata": {},
   "outputs": [],
   "source": [
    "dem_repo = client.get_repo(\"earthsciencesnz/copernicus_dem\")\n",
    "dem_session = dem_repo.writable_session(\"main\")\n",
    "dem_ds = xr.open_zarr(dem_session.store, group=\"90m_new_zealand_complete\")\n",
    "dem_ds"
   ]
  },
  {
   "cell_type": "code",
   "execution_count": null,
   "metadata": {},
   "outputs": [],
   "source": [
    "# Task: plot the DEM\n",
    "# Hint: you may want to \"coarsen\" the data before plotting!"
   ]
  },
  {
   "cell_type": "code",
   "execution_count": null,
   "metadata": {},
   "outputs": [],
   "source": [
    "era5_repo = client.get_repo(\"earthmover-public/era5-surface-aws\")\n",
    "era5_session = era5_repo.readonly_session(\"main\")\n",
    "era5_ds = xr.open_zarr(era5_session.store, group=\"spatial\")"
   ]
  },
  {
   "cell_type": "code",
   "execution_count": null,
   "metadata": {},
   "outputs": [],
   "source": [
    "# Task: plot the ERA5 total precipitation for the period February 6–15, 2023 over New Zealand\n",
    "# Hint: Slice over time and space, then sum over time...\n",
    "era5_ds[\"tp\"] = era5_ds.cp + era5_ds.lsp\n",
    "era5_ds"
   ]
  },
  {
   "cell_type": "markdown",
   "metadata": {},
   "source": [
    "## Calculate Slope from the DEM"
   ]
  },
  {
   "cell_type": "code",
   "execution_count": null,
   "metadata": {},
   "outputs": [],
   "source": [
    "from landslide import calculate_slope\n",
    "\n",
    "calculate_slope??"
   ]
  },
  {
   "cell_type": "code",
   "execution_count": null,
   "metadata": {},
   "outputs": [],
   "source": [
    "dem_ds[\"slope\"] = calculate_slope(dem_ds[\"elevation\"], 90, 90)\n",
    "dem_ds"
   ]
  },
  {
   "cell_type": "code",
   "execution_count": null,
   "metadata": {},
   "outputs": [],
   "source": [
    "from landslide import landslide_index\n",
    "\n",
    "landslide_index??"
   ]
  },
  {
   "cell_type": "markdown",
   "metadata": {},
   "source": [
    "## Data prep\n",
    "\n",
    "Before we can calculate the full index, we need to create a daily version of the precipitation data on the 90m DEM grid."
   ]
  },
  {
   "cell_type": "code",
   "execution_count": null,
   "metadata": {},
   "outputs": [],
   "source": [
    "time_period = slice(\"2023-01-15\", \"2023-02-28\")\n",
    "\n",
    "daily_precip = era5_ds[\"tp\"].sel(time=time_period).resample(time=\"1d\").sum()\n",
    "daily_precip_nz = daily_precip.sel(**bbox)\n",
    "daily_precip_nz"
   ]
  },
  {
   "cell_type": "code",
   "execution_count": null,
   "metadata": {},
   "outputs": [],
   "source": [
    "daily_precip_nz_7d = daily_precip_nz.rolling(time=7).sum()\n",
    "daily_precip_nz_7d"
   ]
  },
  {
   "cell_type": "code",
   "execution_count": null,
   "metadata": {},
   "outputs": [],
   "source": [
    "# Interpolate onto the 90m grid\n",
    "daily_precip_nz_7d_90m = daily_precip_nz_7d.interp(\n",
    "    latitude=dem_ds.latitude, longitude=dem_ds.longitude, method=\"linear\"\n",
    ")\n",
    "daily_precip_nz_7d_90m"
   ]
  },
  {
   "cell_type": "code",
   "execution_count": null,
   "metadata": {},
   "outputs": [],
   "source": [
    "dem_ds[\"index\"] = landslide_index(\n",
    "    dem_ds[\"elevation\"], daily_precip_nz_7d_90m.sel(time=\"2023\"), dx=90, dy=90\n",
    ")\n",
    "dem_ds"
   ]
  },
  {
   "cell_type": "code",
   "execution_count": null,
   "metadata": {},
   "outputs": [],
   "source": [
    "with ProgressBar():\n",
    "    dem_ds[\"index\"].sel(time=\"2023-02-01\").coarsen(\n",
    "        latitude=10, longitude=10\n",
    "    ).max().plot(robust=True)"
   ]
  },
  {
   "cell_type": "markdown",
   "metadata": {},
   "source": [
    "## Write the Landslide Index to the Arraylake Catalog\n",
    "\n",
    "In the final step, we'll each create our own Icechunk repository and write our Landslide Index to it.\n",
    "\n",
    "The steps are as follows:\n",
    "\n",
    "1. Create the repository, populating it with relevant metadata\n",
    "2. Create a writable-session using Icechunk\n",
    "3. Write the data to the Icechunk Store using Xarray and Zarr\n",
    "4. Finalize the write by calling `session.commit()`"
   ]
  },
  {
   "cell_type": "code",
   "execution_count": null,
   "metadata": {},
   "outputs": [],
   "source": [
    "my_name = (\n",
    "    \"jhamman\"  # <- replace with a string that uniquely identifies you! (IMPORTANT)\n",
    ")\n",
    "description = \"\"  # Add a 1-line description to the catalog entry\n",
    "metadata = {}  # Add Key: Value style metadata to the catalog entry\n",
    "\n",
    "repo = client.create_repo(\n",
    "    f\"earthsciencesnz/landslide-{my_name}\", description=description, metadata=metadata\n",
    ")\n",
    "\n",
    "# or reopen your repository if you already created it\n",
    "# repo = client.get_repo(f'earthsciencesnz/landslide-{my_name}')"
   ]
  },
  {
   "cell_type": "code",
   "execution_count": null,
   "metadata": {},
   "outputs": [],
   "source": [
    "# create the writable session\n",
    "session = repo.writable_session(\"main\")\n",
    "session"
   ]
  },
  {
   "cell_type": "code",
   "execution_count": null,
   "metadata": {},
   "outputs": [],
   "source": [
    "# write the data\n",
    "with ProgressBar():\n",
    "    dem_ds.sel(time=slice(\"2023-02-01\", \"2023-02-15\")).chunk(\n",
    "        {\"latitude\": 1000, \"longitude\": 1000, \"time\": 1}\n",
    "    ).to_zarr(session.store)\n",
    "\n",
    "# Inspect the changes before committing\n",
    "session.status()"
   ]
  },
  {
   "cell_type": "code",
   "execution_count": null,
   "metadata": {},
   "outputs": [],
   "source": [
    "session.commit(\"added landslide index for feb 2023\")"
   ]
  },
  {
   "cell_type": "markdown",
   "metadata": {},
   "source": [
    "# Lab Activities\n",
    "\n",
    "1. Update the metadata on the dataset\n",
    "2. Add a new field `max_index` \n",
    "3. Find a dataset produced by a colleague and open their dataset... what did they do differently.\n",
    "4. Explore the web catalog -- find your dataset and add/edit metadata there: https://app.earthmover.io/earthsciencesnz/repositories"
   ]
  },
  {
   "cell_type": "code",
   "execution_count": null,
   "metadata": {},
   "outputs": [],
   "source": []
  }
 ],
 "metadata": {
  "kernelspec": {
   "display_name": "Python 3 (ipykernel)",
   "language": "python",
   "name": "python3"
  },
  "language_info": {
   "codemirror_mode": {
    "name": "ipython",
    "version": 3
   },
   "file_extension": ".py",
   "mimetype": "text/x-python",
   "name": "python",
   "nbconvert_exporter": "python",
   "pygments_lexer": "ipython3",
   "version": "3.12.4"
  }
 },
 "nbformat": 4,
 "nbformat_minor": 4
}
