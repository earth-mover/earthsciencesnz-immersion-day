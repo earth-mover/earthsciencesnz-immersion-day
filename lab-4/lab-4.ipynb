{
 "cells": [
  {
   "cell_type": "markdown",
   "id": "0",
   "metadata": {},
   "source": [
    "# Data Access through flux\n",
    "\n",
    "Data must be accessible for it to be useful.\n",
    "\n",
    "Standard APIs let us bridge the gap between new technologies (Zarr/Icechunk/Arraylake) & legacy workflows.\n",
    "\n",
    "This means we can make our data fit different formats.\n",
    "\n",
    "This notebook demonstrates a few ways this can work using *Flux* - Earthmover's Data Delivery service.\n",
    "\n",
    "Funamentally Flux enables access through standard Web APIs\n",
    "\n",
    "```python\n",
    "    \"https://compute.earthmover.io\"\n",
    "    # the \"web tiles\" service\n",
    "    \"/v1/services/tiles/\"\n",
    "    # {org}/{repo}\n",
    "    \"earthmover-public/era5-surface-aws\"\n",
    "    # {branch}/{path/to/group}/{service}\n",
    "    \"/main/spatial/tiles/\"\n",
    "    # {tiling-system}/... <- as required by the OGC Tiles standard\n",
    "    \"WebMercatorQuad/{z}/{y}/{x}\"\n",
    "    # query parameters, here selecting variable and setting colorbar range\n",
    "    \"?variables=tcc&colorscalerange=0,0.0000001\"\n",
    "    # setting size of PNGs\n",
    "    \"&width=512&height=512\"\n",
    "```\n",
    "\n",
    "Read the docs about Flux here: https://docs.earthmover.io/flux/\n",
    "\n",
    "_As we work through the material below, notice how we never use the Arraylake Client_"
   ]
  },
  {
   "cell_type": "markdown",
   "id": "1",
   "metadata": {},
   "source": [
    "## Grab tabular formats via the EDR API\n",
    "\n",
    "\n",
    "### Serve data to tabular library users\n",
    "\n",
    "Here we use pandas and specify the _csv_ format"
   ]
  },
  {
   "cell_type": "code",
   "execution_count": null,
   "id": "2",
   "metadata": {},
   "outputs": [],
   "source": [
    "import pandas as pd\n",
    "\n",
    "pd.read_csv(\n",
    "    \"https://compute.earthmover.io/v1/services/edr/\"\n",
    "    # {org}/{repo}\n",
    "    \"earthmover-public/era5-surface-aws\"\n",
    "    # {branch}/{path/to/group}/edr/{type-of-query}?\n",
    "    \"/main/temporal/edr/position?\"\n",
    "    # select variable `sd` at coordinates\n",
    "    \"parameter-name=sd&coords=POINT(286%2040.0150)\"\n",
    "    # output format\n",
    "    \"&f=csv\"\n",
    ")"
   ]
  },
  {
   "cell_type": "markdown",
   "id": "3",
   "metadata": {},
   "source": [
    "### Export a csv to a file"
   ]
  },
  {
   "cell_type": "code",
   "execution_count": null,
   "id": "4",
   "metadata": {},
   "outputs": [],
   "source": [
    "%%bash\n",
    "\n",
    "curl \"https://compute.earthmover.io/v1/services/edr/\"\\\n",
    "\"earthmover-public/era5-surface-aws\"\\\n",
    "\"/main/temporal/edr/position?\"\\\n",
    "\"parameter-name=sd&coords=POINT(286%2040.0150)\"\\\n",
    "\"&f=csv\" > era5_timeseries.csv"
   ]
  },
  {
   "cell_type": "code",
   "execution_count": null,
   "id": "5",
   "metadata": {},
   "outputs": [],
   "source": [
    "!head era5_timeseries.csv"
   ]
  },
  {
   "cell_type": "markdown",
   "id": "6",
   "metadata": {},
   "source": [
    "### Exercise: Arraylake data in Google Sheets\n",
    "\n",
    "Use the `IMPORTDATA` function to grab data from the csv link.\n",
    "\n",
    "Grabbing the whole timeseries will fail (too much data for the sheet); but you can specify a datetime range using `&datetime=2020-01-01/2020-12-31`.\n",
    "\n",
    "Your cell should look like `=IMPORTDATA(URL)`\n",
    "\n",
    "\n",
    "### Exercise 2: Does this work in Excel?\n",
    "### Exercise 3: Adapt that solution to your own dataset."
   ]
  },
  {
   "cell_type": "markdown",
   "id": "7",
   "metadata": {},
   "source": [
    "## Serve map tiles via the Tiles service\n",
    "\n",
    "### In the notebook"
   ]
  },
  {
   "cell_type": "code",
   "execution_count": null,
   "id": "8",
   "metadata": {},
   "outputs": [],
   "source": [
    "from ipyleaflet import Map, TileLayer, basemaps\n",
    "\n",
    "url = (\n",
    "    \"https://compute.earthmover.io\"\n",
    "    \"/v1/services/tiles/earthmover-public/era5-surface-aws\"\n",
    "    \"/main/spatial/tiles/WebMercatorQuad/{z}/{y}/{x}\"\n",
    "    \"?variables=t2&colorscalerange=280,310&width=512&height=512\"\n",
    ")\n",
    "m = Map(center=(-40, 160), zoom=4)\n",
    "tile_layer = TileLayer(url=url, show_loading=True, opacity=0.5)\n",
    "m.add(tile_layer)\n",
    "m"
   ]
  },
  {
   "cell_type": "markdown",
   "id": "9",
   "metadata": {},
   "source": [
    "### As a standalone MapBox app\n",
    "\n",
    "See `mapbox.html` in this same directory. Right click and open in a new browser window.\n",
    "\n",
    "Note this HTML file uses a token that I will delete after the workshop. Replace `mapboxgl.accessToken` with your token, if you try this in the future."
   ]
  },
  {
   "cell_type": "markdown",
   "id": "10",
   "metadata": {},
   "source": [
    "### Exercise: Update `mapbox.html` to visualize your own data"
   ]
  },
  {
   "cell_type": "markdown",
   "id": "11",
   "metadata": {},
   "source": [
    "## Access your data in netCDF tools using OPeNDAP\n",
    "\n",
    "\n",
    "Let's use `ncdump -h` to get a listing of all metadata in this _Zarr_ group"
   ]
  },
  {
   "cell_type": "code",
   "execution_count": null,
   "id": "12",
   "metadata": {},
   "outputs": [],
   "source": [
    "!ncdump -h https://compute.earthmover.io/v1/services/dap2/earthmover-public/era5-surface-aws/main/temporal/opendap"
   ]
  },
  {
   "cell_type": "markdown",
   "id": "13",
   "metadata": {},
   "source": [
    "### Exercise: work with your data in your favorite netcdf viewer (ncview?)\n",
    "\n",
    "## Discussion:\n",
    "\n",
    "1. What other programs or interfaces would you like to expose for your data?\n",
    "2. How do you see Flux being useful in your work?"
   ]
  },
  {
   "cell_type": "code",
   "execution_count": null,
   "id": "14",
   "metadata": {},
   "outputs": [],
   "source": []
  }
 ],
 "metadata": {
  "kernelspec": {
   "display_name": "Python [conda env:xarray-release]",
   "language": "python",
   "name": "conda-env-xarray-release-py"
  },
  "language_info": {
   "codemirror_mode": {
    "name": "ipython",
    "version": 3
   },
   "file_extension": ".py",
   "mimetype": "text/x-python",
   "name": "python",
   "nbconvert_exporter": "python",
   "pygments_lexer": "ipython3",
   "version": "3.12.11"
  }
 },
 "nbformat": 4,
 "nbformat_minor": 5
}
