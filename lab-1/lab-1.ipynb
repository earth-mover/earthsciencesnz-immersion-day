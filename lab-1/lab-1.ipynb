{
 "cells": [
  {
   "cell_type": "markdown",
   "metadata": {},
   "source": [
    "# Lab 1: Exploring the Catalog"
   ]
  },
  {
   "cell_type": "markdown",
   "metadata": {},
   "source": [
    "**Goal**: Discover what's available\n",
    "\n",
    "In this lab, you'll log into a pre-configured AWS SageMaker Studio environment and explore the pre-loaded data catalog (ERA5, DEM, etc.) in a Jupyter Notebook. You'll run basic Xarray queries that are accelerated by Icechunk, experiencing the platform's speed firsthand."
   ]
  },
  {
   "cell_type": "markdown",
   "metadata": {},
   "source": [
    "**Note:** If you are not running this in an AWS-facilitated workshop environment you will need to `pip install` `xarray`, `zarr`, `icechunk`, `matplotlib` and `cartopy`, as well as the latest version of `arraylake` (`v0.23.1`)."
   ]
  },
  {
   "cell_type": "markdown",
   "metadata": {},
   "source": [
    "## Connect to Arraylake"
   ]
  },
  {
   "cell_type": "markdown",
   "metadata": {},
   "source": [
    "Now let's login to arraylake. We can [login to the web app](https://app.earthmover.io/earthsciencesnz/dashboard), or log in from the notebook programatically via the client."
   ]
  },
  {
   "cell_type": "code",
   "execution_count": null,
   "metadata": {},
   "outputs": [],
   "source": [
    "from arraylake import Client"
   ]
  },
  {
   "cell_type": "code",
   "execution_count": null,
   "metadata": {},
   "outputs": [],
   "source": [
    "client = Client()\n",
    "client.login()"
   ]
  },
  {
   "cell_type": "markdown",
   "metadata": {},
   "source": [
    "This `client` object is how we interact with arraylake from python. Using it we can find data repositories (\"repos\"), create and edit repos, as well as read and write data to and from repos."
   ]
  },
  {
   "cell_type": "markdown",
   "metadata": {},
   "source": [
    "## Explore Arraylake's Data Catalog"
   ]
  },
  {
   "cell_type": "markdown",
   "metadata": {},
   "source": [
    "Data in arraylake is organised into \"repos\" (think GitHub repositories), which contain data, and \"orgs\" (think GitHub organization), which contain a managed set of repos.\n",
    "\n",
    "In this workshop we will use two orgs:\n",
    "- The `earthmover-public` org, containing examples of public datasets (e.g. ERA5),\n",
    "- The `earthsciencesnz` org, containing data specific to Earth Sciences New Zealand."
   ]
  },
  {
   "cell_type": "markdown",
   "metadata": {},
   "source": [
    "All repositories can be public or private, and your accounts for today are able to view all public repositories, such as those in `earthmover-public`, as well as all the private repositories within the `earthsciencesnz` org."
   ]
  },
  {
   "cell_type": "markdown",
   "metadata": {},
   "source": [
    "We can view all the repos in the `earthsciencesnz` org by navigating to the [earthsciencesnz org homepage](https://app.earthmover.io/earthsciencesnz/dashboard) in the Arraylake web app."
   ]
  },
  {
   "cell_type": "markdown",
   "metadata": {},
   "source": [
    "Alternatively we can access the same information programatically via the client:"
   ]
  },
  {
   "cell_type": "code",
   "execution_count": null,
   "metadata": {},
   "outputs": [],
   "source": [
    "# requires arraylake v0.23.1 for nice HTML repr\n",
    "client.list_repos(org=\"earthsciencesnz\")"
   ]
  },
  {
   "cell_type": "markdown",
   "metadata": {},
   "source": [
    "Either way, we can see that this single org contains multiple repos, which may be public or private."
   ]
  },
  {
   "cell_type": "markdown",
   "metadata": {},
   "source": [
    "## Explore a specific repo (`copernicus_dem`)"
   ]
  },
  {
   "cell_type": "markdown",
   "metadata": {},
   "source": [
    "Let's explore a specific data repository: the `copernicus_dem` repo. We can [view the repo](https://app.earthmover.io/earthsciencesnz/copernicus_dem) in the web app."
   ]
  },
  {
   "cell_type": "markdown",
   "metadata": {},
   "source": [
    "Or we can get information about the repo via the client."
   ]
  },
  {
   "cell_type": "code",
   "execution_count": null,
   "metadata": {},
   "outputs": [],
   "source": [
    "# requires arraylake v0.23.1 to use sync version of this method\n",
    "client.get_repo_object(\"earthsciencesnz/copernicus_dem\")"
   ]
  },
  {
   "cell_type": "markdown",
   "metadata": {},
   "source": [
    "Whilst the web app shows us various metadata about the contents of the repo, to actually access data we need to use the client."
   ]
  },
  {
   "cell_type": "code",
   "execution_count": null,
   "metadata": {},
   "outputs": [],
   "source": [
    "ic_repo = client.get_repo(\"earthsciencesnz/copernicus_dem\")"
   ]
  },
  {
   "cell_type": "code",
   "execution_count": null,
   "metadata": {},
   "outputs": [],
   "source": [
    "ic_repo"
   ]
  },
  {
   "cell_type": "markdown",
   "metadata": {},
   "source": [
    "Icechunk is Earthmover's open-source transactional storage engine. You can think of it as \"version-controlled, multiplayer Zarr\".\n",
    "\n",
    "Icechunk is incredibly powerful, and you can read more about it in the [icechunk documentation](https://icechunk.io/en/latest/), and on the [Earthmover Blog](https://earthmover.io/blog).\n",
    "\n",
    "For today, in this notebook, Icechunk will mainly be behind-the-scences."
   ]
  },
  {
   "cell_type": "markdown",
   "metadata": {},
   "source": [
    "To access the data in Icechunk via zarr, we need to start a `Session`, then get the Zarr store object."
   ]
  },
  {
   "cell_type": "code",
   "execution_count": null,
   "metadata": {},
   "outputs": [],
   "source": [
    "session = ic_repo.readonly_session(\"main\")\n",
    "session"
   ]
  },
  {
   "cell_type": "code",
   "execution_count": null,
   "metadata": {},
   "outputs": [],
   "source": [
    "icechunk_store = session.store\n",
    "icechunk_store"
   ]
  },
  {
   "cell_type": "markdown",
   "metadata": {},
   "source": [
    "Now we have something that xarray can read from!"
   ]
  },
  {
   "cell_type": "code",
   "execution_count": null,
   "metadata": {},
   "outputs": [],
   "source": [
    "import xarray as xr"
   ]
  },
  {
   "cell_type": "code",
   "execution_count": null,
   "metadata": {},
   "outputs": [],
   "source": [
    "ds = xr.open_dataset(\n",
    "    icechunk_store, group=\"90m_new_zealand_complete\", engine=\"zarr\", zarr_format=3\n",
    ")\n",
    "ds"
   ]
  },
  {
   "cell_type": "markdown",
   "metadata": {},
   "source": [
    "This `xarray.Dataset` represents a lazy view of the data in the `90m_new_zealand` group of the zarr data in the `copernicus_dem` repo."
   ]
  },
  {
   "cell_type": "markdown",
   "metadata": {},
   "source": [
    "The metadata shown is the same as in the [web app view](https://app.earthmover.io/earthsciencesnz/copernicus_dem/tree/main/90m_new_zealand) of the same group of that repo."
   ]
  },
  {
   "cell_type": "markdown",
   "metadata": {},
   "source": [
    "## Plot some data"
   ]
  },
  {
   "cell_type": "markdown",
   "metadata": {},
   "source": [
    "Though this `Dataset` contains over a GB of data, only a tiny fraction of that (the metadata) has so far been downloaded to the machine on which we are running this notebook."
   ]
  },
  {
   "cell_type": "markdown",
   "metadata": {},
   "source": [
    "We can select a region over the North Island, and plot just that bounding box."
   ]
  },
  {
   "cell_type": "code",
   "execution_count": null,
   "metadata": {},
   "outputs": [],
   "source": [
    "ds[\"latitude\"].sel(latitude=-41, method=\"nearest\")"
   ]
  },
  {
   "cell_type": "code",
   "execution_count": null,
   "metadata": {},
   "outputs": [],
   "source": [
    "# note: once https://github.com/pydata/xarray/pull/10711 is merged exact decimal grid values won't be necessary,\n",
    "# instead we can use integer values with `method=\"nearest\"`.\n",
    "bbox = {\n",
    "    \"longitude\": slice(174.00041667, 178.00041667),\n",
    "    \"latitude\": slice(-36.99958333, -40.99958333),\n",
    "}"
   ]
  },
  {
   "cell_type": "code",
   "execution_count": null,
   "metadata": {},
   "outputs": [],
   "source": [
    "ds[\"elevation\"].sel(**bbox).plot()"
   ]
  },
  {
   "cell_type": "markdown",
   "metadata": {},
   "source": [
    "Apparently New Zealand has at least one point below sea level, which is why xarray has defaulted to a diverging colormap. We can override this to make a more informative plot:"
   ]
  },
  {
   "cell_type": "code",
   "execution_count": null,
   "metadata": {},
   "outputs": [],
   "source": [
    "ds[\"elevation\"].sel(**bbox).plot(vmin=-100, center=False)"
   ]
  },
  {
   "cell_type": "markdown",
   "metadata": {},
   "source": [
    "## Coarsen"
   ]
  },
  {
   "cell_type": "markdown",
   "metadata": {},
   "source": [
    "We could plot the elevation over the whole of NZ at our full resolution, but that would involve downloading >1GB of data to the machine our notebook is running on. That's totally possible, but what if we just wanted to work with a coarsened view of the data, for example for a regional climate model?"
   ]
  },
  {
   "cell_type": "markdown",
   "metadata": {},
   "source": [
    "We can achieve that very easily using [xarray's `.coarsen` functionality](https://docs.xarray.dev/en/stable/user-guide/computation.html#coarsen-large-arrays). "
   ]
  },
  {
   "cell_type": "markdown",
   "metadata": {},
   "source": [
    "Here we coarsen the data by taking a mean over boxes of 400x400 lat-lon points."
   ]
  },
  {
   "cell_type": "code",
   "execution_count": null,
   "metadata": {},
   "outputs": [],
   "source": [
    "ds[\"elevation\"].coarsen(latitude=400, longitude=400).mean().plot()"
   ]
  },
  {
   "cell_type": "markdown",
   "metadata": {},
   "source": [
    "## Explore another repo (`era5-surface-aws`)"
   ]
  },
  {
   "cell_type": "markdown",
   "metadata": {},
   "source": [
    "Let's explore another repo. Earthmover maintains some public datasets - let's get ERA5!"
   ]
  },
  {
   "cell_type": "code",
   "execution_count": null,
   "metadata": {},
   "outputs": [],
   "source": [
    "ic_repo = client.get_repo(\"earthmover-public/era5-surface-aws\")\n",
    "session = ic_repo.readonly_session(\"main\")"
   ]
  },
  {
   "cell_type": "markdown",
   "metadata": {},
   "source": [
    "We can see information about this repo in the [web app page for ERA5](https://app.earthmover.io/earthmover-public/era5-surface-aws).\n",
    "\n",
    "There are two groups - these contain the same data, but with chunking optimized for different access patterns. For now let's get the `spatial` group."
   ]
  },
  {
   "cell_type": "code",
   "execution_count": null,
   "metadata": {},
   "outputs": [],
   "source": [
    "ds = xr.open_dataset(session.store, group=\"spatial\", engine=\"zarr\", zarr_format=3)\n",
    "ds"
   ]
  },
  {
   "cell_type": "markdown",
   "metadata": {},
   "source": [
    "A lot more data in here! How much data...?"
   ]
  },
  {
   "cell_type": "code",
   "execution_count": null,
   "metadata": {},
   "outputs": [],
   "source": [
    "ds.nbytes / 1e12"
   ]
  },
  {
   "cell_type": "markdown",
   "metadata": {},
   "source": [
    "Wow there's 32TB in here!"
   ]
  },
  {
   "cell_type": "markdown",
   "metadata": {},
   "source": [
    "## Total cloud cover"
   ]
  },
  {
   "cell_type": "markdown",
   "metadata": {},
   "source": [
    "This dataset has lots of interesting variables, but let's try plotting just one first - total cloud cover. We can look at the metadata of the `tcc` variable to confirm that that's the one that represents total cloud cover."
   ]
  },
  {
   "cell_type": "code",
   "execution_count": null,
   "metadata": {},
   "outputs": [],
   "source": [
    "ds[\"tcc\"].attrs"
   ]
  },
  {
   "cell_type": "markdown",
   "metadata": {},
   "source": [
    "Now as this dataset is global, we should pick a map projection to use, for which we need the `cartopy` library."
   ]
  },
  {
   "cell_type": "code",
   "execution_count": null,
   "metadata": {},
   "outputs": [],
   "source": [
    "import cartopy.crs as ccrs"
   ]
  },
  {
   "cell_type": "code",
   "execution_count": null,
   "metadata": {},
   "outputs": [],
   "source": [
    "p = (\n",
    "    ds[\"tcc\"]\n",
    "    .isel(time=-1)\n",
    "    .plot(\n",
    "        subplot_kws={\"projection\": ccrs.Orthographic(173, -42), \"facecolor\": \"gray\"},\n",
    "        transform=ccrs.PlateCarree(),\n",
    "    )\n",
    ")\n",
    "p.axes.set_global()\n",
    "p.axes.coastlines();"
   ]
  },
  {
   "cell_type": "markdown",
   "metadata": {},
   "source": [
    "The total cloud cover over New Zealand on New Year's Eve 2024!"
   ]
  },
  {
   "cell_type": "markdown",
   "metadata": {},
   "source": [
    "### Vorticity"
   ]
  },
  {
   "cell_type": "markdown",
   "metadata": {},
   "source": [
    "Let's try calculating and plotting a simple derived quantity that you hopefully remember from GFD classes - vorticity."
   ]
  },
  {
   "cell_type": "code",
   "execution_count": null,
   "metadata": {},
   "outputs": [],
   "source": [
    "def vorticity(u, v):\n",
    "    \"\"\"\n",
    "    Calculate the vertical component of vorticity from horizontal velocity fields u and v.\n",
    "    \"\"\"\n",
    "\n",
    "    du_dy = u.differentiate(\"latitude\")\n",
    "    dv_dx = v.differentiate(\"longitude\")\n",
    "\n",
    "    return dv_dx - du_dy"
   ]
  },
  {
   "cell_type": "markdown",
   "metadata": {},
   "source": [
    "(This operation will compute eagerly, so we need to select just the timestep we want first, otherwise we will load ~4TB of data into memory! To do this lazily or in parallel for the entire dataset, we would need to take advantage of xarray's integration with parallel computing frameworks such as [Dask](https://docs.xarray.dev/en/stable/user-guide/dask.html).)"
   ]
  },
  {
   "cell_type": "code",
   "execution_count": null,
   "metadata": {},
   "outputs": [],
   "source": [
    "final_timestep = ds.isel(time=-1)"
   ]
  },
  {
   "cell_type": "code",
   "execution_count": null,
   "metadata": {},
   "outputs": [],
   "source": [
    "vort100 = vorticity(\n",
    "    u=final_timestep[\"u100\"],\n",
    "    v=final_timestep[\"v100\"],\n",
    ")"
   ]
  },
  {
   "cell_type": "code",
   "execution_count": null,
   "metadata": {},
   "outputs": [],
   "source": [
    "p = vort100.plot(\n",
    "    subplot_kws={\"projection\": ccrs.Orthographic(173, -42), \"facecolor\": \"gray\"},\n",
    "    transform=ccrs.PlateCarree(),\n",
    "    robust=True,\n",
    ")\n",
    "p.axes.set_global()\n",
    "p.axes.coastlines();"
   ]
  },
  {
   "cell_type": "markdown",
   "metadata": {},
   "source": [
    "The reason this is all so fast is because xarray is only requesting the zarr chunks that it needs to make the plot, and Icechunk's IO layer is capable of fetching them extremely efficiently and concurrently."
   ]
  },
  {
   "cell_type": "markdown",
   "metadata": {},
   "source": [
    "### Try exploring yourself!"
   ]
  },
  {
   "cell_type": "markdown",
   "metadata": {},
   "source": [
    "Now have a go at exploring yourself! Here are some ideas of things you could try:"
   ]
  },
  {
   "cell_type": "markdown",
   "metadata": {},
   "source": [
    "- Find all public repos in arraylake."
   ]
  },
  {
   "cell_type": "markdown",
   "metadata": {
    "jupyter": {
     "source_hidden": true
    }
   },
   "source": [
    "Click to reveal the solution!\n",
    "\n",
    "Navigate to [https://app.earthmover.io/public/repositories](https://app.earthmover.io/public/repositories)."
   ]
  },
  {
   "cell_type": "markdown",
   "metadata": {},
   "source": [
    "- Plot a different variable from ERA5."
   ]
  },
  {
   "cell_type": "code",
   "execution_count": null,
   "metadata": {
    "collapsed": true,
    "jupyter": {
     "outputs_hidden": true,
     "source_hidden": true
    }
   },
   "outputs": [],
   "source": [
    "# Click to reveal the solution!\n",
    "\n",
    "p = (\n",
    "    ds[\"sd\"]\n",
    "    .isel(time=-1)\n",
    "    .plot(\n",
    "        subplot_kws={\"projection\": ccrs.Orthographic(173, -42), \"facecolor\": \"gray\"},\n",
    "        transform=ccrs.PlateCarree(),\n",
    "    )\n",
    ")\n",
    "p.axes.set_global()\n",
    "p.axes.coastlines();"
   ]
  },
  {
   "cell_type": "markdown",
   "metadata": {},
   "source": [
    "- Compute the global mean sea surface temperature at a point in time."
   ]
  },
  {
   "cell_type": "code",
   "execution_count": null,
   "metadata": {
    "collapsed": true,
    "jupyter": {
     "outputs_hidden": true,
     "source_hidden": true
    }
   },
   "outputs": [],
   "source": [
    "# Click to reveal the solution!\n",
    "\n",
    "ds[\"sst\"].isel(time=-1).mean()"
   ]
  },
  {
   "cell_type": "markdown",
   "metadata": {},
   "source": [
    "- Plot a timeseries of ERA5 data at a single point (this will perform better if you open the `temporal` group instead of the `spatial` group, which has the same data but chunked in a way more optimized for a timeseries access pattern)."
   ]
  },
  {
   "cell_type": "code",
   "execution_count": null,
   "metadata": {
    "collapsed": true,
    "jupyter": {
     "outputs_hidden": true,
     "source_hidden": true
    }
   },
   "outputs": [],
   "source": [
    "# Click to reveal the solution!\n",
    "\n",
    "# open time-optimized-chunking version of ERA5\n",
    "ds = xr.open_dataset(session.store, group=\"temporal\", engine=\"zarr\", zarr_format=3)\n",
    "\n",
    "# total precipitation\n",
    "precip = ds[\"cp\"]\n",
    "\n",
    "# timeseries over Wellington, NZ\n",
    "wellington_precip = precip.sel(\n",
    "    latitude=-41.288889, longitude=174.777222, method=\"nearest\"\n",
    ")\n",
    "\n",
    "wellington_precip.plot()"
   ]
  },
  {
   "cell_type": "markdown",
   "metadata": {},
   "source": [
    "- Compute a monthly climatology at a specific location using [xarray's `.groupby` pattern](https://docs.xarray.dev/en/stable/user-guide/groupby.html)."
   ]
  },
  {
   "cell_type": "code",
   "execution_count": null,
   "metadata": {
    "collapsed": true,
    "jupyter": {
     "outputs_hidden": true,
     "source_hidden": true
    }
   },
   "outputs": [],
   "source": [
    "# Click to reveal the solution!\n",
    "wellington_precip.groupby(\"time.month\").mean().plot()"
   ]
  },
  {
   "cell_type": "markdown",
   "metadata": {},
   "source": [
    "- Explore some of the other example repos in `earthmover-public`, such as `gfs` or `hrrr`."
   ]
  },
  {
   "cell_type": "code",
   "execution_count": null,
   "metadata": {
    "collapsed": true,
    "jupyter": {
     "outputs_hidden": true,
     "source_hidden": true
    }
   },
   "outputs": [],
   "source": [
    "# Click to reveal the solution!\n",
    "\n",
    "ic_repo = client.get_repo(\"earthmover-public/hrrr\")\n",
    "session = ic_repo.readonly_session(\"main\")\n",
    "\n",
    "hrrr = xr.open_dataset(session.store, group=\"solar\", engine=\"zarr\", zarr_format=3)\n",
    "\n",
    "# plot a forecast of solar radiation\n",
    "hrrr[\"dswrf\"].isel(step=10, time=-5).plot()"
   ]
  },
  {
   "cell_type": "markdown",
   "metadata": {},
   "source": [
    "## Conclusion"
   ]
  },
  {
   "cell_type": "markdown",
   "metadata": {},
   "source": [
    "Hopefully this gives you a little taste of how easy it is to find and explore data with the combination of arraylake, icechunk, zarr, and xarray!"
   ]
  }
 ],
 "metadata": {
  "kernelspec": {
   "display_name": "Python 3 (ipykernel)",
   "language": "python",
   "name": "python3"
  },
  "language_info": {
   "codemirror_mode": {
    "name": "ipython",
    "version": 3
   },
   "file_extension": ".py",
   "mimetype": "text/x-python",
   "name": "python",
   "nbconvert_exporter": "python",
   "pygments_lexer": "ipython3",
   "version": "3.13.2"
  }
 },
 "nbformat": 4,
 "nbformat_minor": 4
}
